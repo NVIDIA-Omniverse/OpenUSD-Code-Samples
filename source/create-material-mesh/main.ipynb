{
 "cells": [
  {
   "attachments": {},
   "cell_type": "markdown",
   "metadata": {},
   "source": [
    "# Create a Mesh With A Material\n",
    "\n"
   ]
  },
  {
   "cell_type": "code",
   "execution_count": null,
   "metadata": {},
   "outputs": [],
   "source": [
    "! pip install usd-core==22.11"
   ]
  },
  {
   "cell_type": "code",
   "execution_count": null,
   "metadata": {},
   "outputs": [],
   "source": [
    "from pxr import Gf, Usd, UsdGeom, UsdShade, Sdf\n",
    "\n",
    "def run(stage: Usd.Stage, root: Sdf.Path):\n",
    "    # Mesh creation\n",
    "    mesh_path = root.AppendPath(\"Mesh\")\n",
    "    mesh: UsdGeom.Mesh = UsdGeom.Mesh.Define(stage, mesh_path)\n",
    "    mesh.CreatePointsAttr([(-1, -1, 0), (1, -1, 0), (1, 1, 0), (-1, 1, 0)])\n",
    "    mesh.CreateFaceVertexCountsAttr([4])\n",
    "    mesh.CreateFaceVertexIndicesAttr([0, 1, 2, 3])\n",
    "    mesh.CreateExtentAttr([(-1, -1, 0), (1, 1, 0)])\n",
    "    texCoords = UsdGeom.PrimvarsAPI(mesh).CreatePrimvar(\n",
    "        \"st\", Sdf.ValueTypeNames.TexCoord2fArray, UsdGeom.Tokens.varying\n",
    "    )\n",
    "    texCoords.Set([(0, 0), (1, 0), (1, 1), (0, 1)])\n",
    "\n",
    "    # Material + Shader creation and binding\n",
    "    material_path = root.AppendPath(\"Material\")\n",
    "    material = UsdShade.Material.Define(stage, material_path)\n",
    "    shader_path = material_path.AppendPath(\"Shader\")\n",
    "    shader: UsdShade.Shader = UsdShade.Shader.Define(\n",
    "        stage, shader_path\n",
    "    )\n",
    "    shader.SetSourceAsset(\"UsdPreviewSurface.mdl\", \"mdl\")\n",
    "    shader.SetSourceAssetSubIdentifier(\"UsdPreviewSurface\", \"mdl\")\n",
    "    shader.CreateIdAttr(\"UsdPreviewSurface\")\n",
    "    shader.CreateInput(\"diffuseColor\", Sdf.ValueTypeNames.Color3f).Set(Gf.Vec3f(1.0, 0.0, 1.0))\n",
    "    material.CreateSurfaceOutput().ConnectToSource(shader.ConnectableAPI(), \"surface\")\n",
    "    mesh.GetPrim().ApplyAPI(UsdShade.MaterialBindingAPI)\n",
    "    UsdShade.MaterialBindingAPI(mesh).Bind(material)"
   ]
  },
  {
   "attachments": {},
   "cell_type": "markdown",
   "metadata": {},
   "source": [
    "# Running in Terminal"
   ]
  },
  {
   "cell_type": "code",
   "execution_count": null,
   "metadata": {},
   "outputs": [],
   "source": [
    "stage: Usd.Stage = Usd.Stage.CreateInMemory()\n",
    "root_path = Sdf.Path(\"/World\")\n",
    "root_prim = UsdGeom.Xform.Define(stage, root_path)\n",
    "stage.SetDefaultPrim(root_prim.GetPrim())\n",
    "run(stage=stage, root=root_path)\n",
    "usda = stage.GetRootLayer().ExportToString()\n",
    "print(usda)"
   ]
  },
  {
   "attachments": {},
   "cell_type": "markdown",
   "metadata": {},
   "source": [
    "# Running in Omniverse"
   ]
  },
  {
   "cell_type": "code",
   "execution_count": null,
   "metadata": {},
   "outputs": [],
   "source": [
    "import omni\n",
    "usd_context = omni.usd.get_context()\n",
    "stage: Usd.Stage = usd_context.get_stage()\n",
    "run(stage=stage, root=Sdf.Path(\"/World\"))"
   ]
  }
 ],
 "metadata": {
  "language_info": {
   "name": "python"
  },
  "orig_nbformat": 4
 },
 "nbformat": 4,
 "nbformat_minor": 2
}
